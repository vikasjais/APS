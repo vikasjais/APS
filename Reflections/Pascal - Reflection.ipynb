{
 "cells": [
  {
   "cell_type": "markdown",
   "metadata": {},
   "source": [
    "# Pascal's triangle\n",
    "\n",
    "1. **Recursive algorithm**:\n",
    "    - Is reasonable for smaller values for n and a single query. \n",
    "    - Space increases linearly (tree depth). \n",
    "    - Number of operations performed increases exponentially - $2^n$.\n",
    "\n",
    "\n",
    "2. **DP adaptation**\n",
    "    - Is best if you have a lot of queries in the range $(1,n),(1,k)$.\n",
    "    - Space and time are proportional to $n*k$.\n",
    "\n",
    "\n",
    "3. **Leaner DP**\n",
    "    - Is best if you have a lot of queries in the range $(1,k)$ for the same n. If n differs, it is probably best to use the 2<sup>nd</sup> method.\n",
    "    - Memory is an improvement over the 2<sup>nd</sup> approach - increases linearly with $k$ (overwrites same locations).\n",
    "    - Time complexity remains the same - $O(n*k)$."
   ]
  }
 ],
 "metadata": {
  "kernelspec": {
   "display_name": "Python 3",
   "language": "python",
   "name": "python3"
  },
  "language_info": {
   "codemirror_mode": {
    "name": "ipython",
    "version": 3
   },
   "file_extension": ".py",
   "mimetype": "text/x-python",
   "name": "python",
   "nbconvert_exporter": "python",
   "pygments_lexer": "ipython3",
   "version": "3.7.1"
  }
 },
 "nbformat": 4,
 "nbformat_minor": 2
}
